{
 "cells": [
  {
   "cell_type": "code",
   "execution_count": 1,
   "metadata": {},
   "outputs": [],
   "source": [
    "import re\n",
    "import string\n",
    "import numpy as np"
   ]
  },
  {
   "cell_type": "code",
   "execution_count": 2,
   "metadata": {},
   "outputs": [],
   "source": [
    "frequency = {}"
   ]
  },
  {
   "cell_type": "code",
   "execution_count": 3,
   "metadata": {},
   "outputs": [],
   "source": [
    "document_text = open('test.txt', 'r')"
   ]
  },
  {
   "cell_type": "code",
   "execution_count": 4,
   "metadata": {},
   "outputs": [],
   "source": [
    "text_string = document_text.read().lower()"
   ]
  },
  {
   "cell_type": "code",
   "execution_count": 5,
   "metadata": {},
   "outputs": [],
   "source": [
    "match_pattern = re.findall(r'\\b[a-z]{5,35}\\b', text_string)"
   ]
  },
  {
   "cell_type": "code",
   "execution_count": 6,
   "metadata": {},
   "outputs": [],
   "source": [
    "for word in match_pattern:\n",
    "    count = frequency.get(word,0)\n",
    "    frequency[word] = count + 1"
   ]
  },
  {
   "cell_type": "code",
   "execution_count": 7,
   "metadata": {},
   "outputs": [],
   "source": [
    "frequency_list = frequency.keys()"
   ]
  },
  {
   "cell_type": "code",
   "execution_count": 8,
   "metadata": {},
   "outputs": [
    {
     "name": "stdout",
     "output_type": "stream",
     "text": [
      "sophia 9\n",
      "found 2\n",
      "herself 1\n",
      "walking 3\n",
      "through 1\n",
      "glass 1\n",
      "tunnel 1\n",
      "bottom 1\n",
      "without 1\n",
      "difficulties 1\n",
      "breath 1\n",
      "blacktip 1\n",
      "shark 1\n",
      "school 2\n",
      "yellowtail 1\n",
      "surgeonfish 1\n",
      "passed 2\n",
      "noticing 1\n",
      "other 2\n",
      "swimming 2\n",
      "peacefully 1\n",
      "followed 1\n",
      "disappeared 1\n",
      "murky 1\n",
      "water 2\n",
      "continued 1\n",
      "along 2\n",
      "carrying 1\n",
      "schoolbag 1\n",
      "gazing 1\n",
      "marine 1\n",
      "animals 1\n",
      "always 1\n",
      "special 1\n",
      "fascination 1\n",
      "ocean 2\n",
      "everything 1\n",
      "lives 1\n",
      "could 1\n",
      "spend 1\n",
      "whole 2\n",
      "afternoons 1\n",
      "watching 1\n",
      "clown 1\n",
      "sharks 1\n",
      "sting 1\n",
      "turtles 1\n",
      "corals 1\n",
      "being 1\n",
      "surrounded 1\n",
      "transported 1\n",
      "another 1\n",
      "world 3\n",
      "closer 1\n",
      "outside 1\n",
      "first 1\n",
      "where 2\n",
      "interest 1\n",
      "discovered 1\n",
      "these 1\n",
      "feelings 1\n",
      "reminiscences 1\n",
      "childhood 2\n",
      "father 5\n",
      "watermelon 1\n",
      "kenting 1\n",
      "countryside 1\n",
      "enough 1\n",
      "would 1\n",
      "beach 1\n",
      "every 1\n",
      "weekend 1\n",
      "spent 1\n",
      "there 1\n",
      "searching 1\n",
      "crabs 1\n",
      "under 1\n",
      "rocks 1\n",
      "fishing 1\n",
      "friends 1\n",
      "enjoying 1\n",
      "things 1\n",
      "pacific 1\n",
      "provides 1\n",
      "ended 1\n",
      "reached 2\n",
      "family 2\n",
      "financial 1\n",
      "situation 1\n",
      "declined 1\n",
      "considerably 1\n",
      "years 1\n",
      "decided 1\n",
      "continue 1\n",
      "paying 1\n",
      "month 1\n",
      "later 1\n",
      "moved 1\n",
      "tainan 1\n",
      "company 1\n",
      "exported 1\n",
      "agricultural 1\n",
      "products 1\n",
      "china 1\n",
      "begun 1\n",
      "winding 1\n",
      "staircase 2\n",
      "stared 1\n",
      "moment 1\n",
      "began 1\n",
      "ascend 1\n",
      "surrounding 1\n",
      "cylindrical 1\n",
      "steps 1\n",
      "realized 1\n",
      "contained 1\n",
      "thousands 1\n",
      "jellyfishes 1\n",
      "light 1\n",
      "changed 1\n",
      "making 1\n",
      "jellyfish 1\n",
      "change 1\n",
      "their 2\n",
      "colors 1\n",
      "looked 2\n",
      "fluorescent 1\n",
      "mushrooms 1\n",
      "dancing 1\n",
      "canvas 1\n",
      "loved 1\n",
      "watch 1\n",
      "movements 1\n",
      "beautiful 1\n",
      "simple 1\n",
      "thing 1\n",
      "liked 1\n",
      "about 1\n",
      "seemed 1\n",
      "merge 1\n",
      "crystalline 1\n"
     ]
    }
   ],
   "source": [
    "for words in frequency_list:\n",
    "    print (words, frequency[words])"
   ]
  },
  {
   "cell_type": "code",
   "execution_count": 9,
   "metadata": {},
   "outputs": [
    {
     "name": "stdout",
     "output_type": "stream",
     "text": [
      "['sophia', 'found', 'herself', 'walking', 'through', 'glass', 'tunnel', 'bottom', 'without', 'difficulties', 'breath', 'blacktip', 'shark', 'school', 'yellowtail', 'surgeonfish', 'passed', 'noticing', 'other', 'swimming', 'peacefully', 'followed', 'disappeared', 'murky', 'water', 'continued', 'along', 'carrying', 'schoolbag', 'gazing', 'marine', 'animals', 'always', 'special', 'fascination', 'ocean', 'everything', 'lives', 'could', 'spend', 'whole', 'afternoons', 'watching', 'clown', 'sharks', 'sting', 'turtles', 'corals', 'being', 'surrounded', 'transported', 'another', 'world', 'closer', 'outside', 'first', 'where', 'interest', 'discovered', 'these', 'feelings', 'reminiscences', 'childhood', 'father', 'watermelon', 'kenting', 'countryside', 'enough', 'would', 'beach', 'every', 'weekend', 'spent', 'there', 'searching', 'crabs', 'under', 'rocks', 'fishing', 'friends', 'enjoying', 'things', 'pacific', 'provides', 'ended', 'reached', 'family', 'financial', 'situation', 'declined', 'considerably', 'years', 'decided', 'continue', 'paying', 'month', 'later', 'moved', 'tainan', 'company', 'exported', 'agricultural', 'products', 'china', 'begun', 'winding', 'staircase', 'stared', 'moment', 'began', 'ascend', 'surrounding', 'cylindrical', 'steps', 'realized', 'contained', 'thousands', 'jellyfishes', 'light', 'changed', 'making', 'jellyfish', 'change', 'their', 'colors', 'looked', 'fluorescent', 'mushrooms', 'dancing', 'canvas', 'loved', 'watch', 'movements', 'beautiful', 'simple', 'thing', 'liked', 'about', 'seemed', 'merge', 'crystalline']\n"
     ]
    }
   ],
   "source": [
    "l1=[str(words) for words in frequency_list]\n",
    "print (l1)"
   ]
  },
  {
   "cell_type": "code",
   "execution_count": 10,
   "metadata": {},
   "outputs": [
    {
     "name": "stdout",
     "output_type": "stream",
     "text": [
      "[9, 2, 1, 3, 1, 1, 1, 1, 1, 1, 1, 1, 1, 2, 1, 1, 2, 1, 2, 2, 1, 1, 1, 1, 2, 1, 2, 1, 1, 1, 1, 1, 1, 1, 1, 2, 1, 1, 1, 1, 2, 1, 1, 1, 1, 1, 1, 1, 1, 1, 1, 1, 3, 1, 1, 1, 2, 1, 1, 1, 1, 1, 2, 5, 1, 1, 1, 1, 1, 1, 1, 1, 1, 1, 1, 1, 1, 1, 1, 1, 1, 1, 1, 1, 1, 2, 2, 1, 1, 1, 1, 1, 1, 1, 1, 1, 1, 1, 1, 1, 1, 1, 1, 1, 1, 1, 2, 1, 1, 1, 1, 1, 1, 1, 1, 1, 1, 1, 1, 1, 1, 1, 1, 2, 1, 2, 1, 1, 1, 1, 1, 1, 1, 1, 1, 1, 1, 1, 1, 1, 1]\n"
     ]
    }
   ],
   "source": [
    "l2=[int(frequency[words]) for words in frequency_list]\n",
    "print (l2)"
   ]
  },
  {
   "cell_type": "code",
   "execution_count": 11,
   "metadata": {},
   "outputs": [
    {
     "name": "stdout",
     "output_type": "stream",
     "text": [
      "141 141\n"
     ]
    }
   ],
   "source": [
    "print(len(l1),len(l2))"
   ]
  },
  {
   "cell_type": "code",
   "execution_count": 12,
   "metadata": {},
   "outputs": [
    {
     "name": "stdout",
     "output_type": "stream",
     "text": [
      "{'sophia': 9, 'found': 2, 'herself': 1, 'walking': 3, 'through': 1, 'glass': 1, 'tunnel': 1, 'bottom': 1, 'without': 1, 'difficulties': 1, 'breath': 1, 'blacktip': 1, 'shark': 1, 'school': 2, 'yellowtail': 1, 'surgeonfish': 1, 'passed': 2, 'noticing': 1, 'other': 2, 'swimming': 2, 'peacefully': 1, 'followed': 1, 'disappeared': 1, 'murky': 1, 'water': 2, 'continued': 1, 'along': 2, 'carrying': 1, 'schoolbag': 1, 'gazing': 1, 'marine': 1, 'animals': 1, 'always': 1, 'special': 1, 'fascination': 1, 'ocean': 2, 'everything': 1, 'lives': 1, 'could': 1, 'spend': 1, 'whole': 2, 'afternoons': 1, 'watching': 1, 'clown': 1, 'sharks': 1, 'sting': 1, 'turtles': 1, 'corals': 1, 'being': 1, 'surrounded': 1, 'transported': 1, 'another': 1, 'world': 3, 'closer': 1, 'outside': 1, 'first': 1, 'where': 2, 'interest': 1, 'discovered': 1, 'these': 1, 'feelings': 1, 'reminiscences': 1, 'childhood': 2, 'father': 5, 'watermelon': 1, 'kenting': 1, 'countryside': 1, 'enough': 1, 'would': 1, 'beach': 1, 'every': 1, 'weekend': 1, 'spent': 1, 'there': 1, 'searching': 1, 'crabs': 1, 'under': 1, 'rocks': 1, 'fishing': 1, 'friends': 1, 'enjoying': 1, 'things': 1, 'pacific': 1, 'provides': 1, 'ended': 1, 'reached': 2, 'family': 2, 'financial': 1, 'situation': 1, 'declined': 1, 'considerably': 1, 'years': 1, 'decided': 1, 'continue': 1, 'paying': 1, 'month': 1, 'later': 1, 'moved': 1, 'tainan': 1, 'company': 1, 'exported': 1, 'agricultural': 1, 'products': 1, 'china': 1, 'begun': 1, 'winding': 1, 'staircase': 2, 'stared': 1, 'moment': 1, 'began': 1, 'ascend': 1, 'surrounding': 1, 'cylindrical': 1, 'steps': 1, 'realized': 1, 'contained': 1, 'thousands': 1, 'jellyfishes': 1, 'light': 1, 'changed': 1, 'making': 1, 'jellyfish': 1, 'change': 1, 'their': 2, 'colors': 1, 'looked': 2, 'fluorescent': 1, 'mushrooms': 1, 'dancing': 1, 'canvas': 1, 'loved': 1, 'watch': 1, 'movements': 1, 'beautiful': 1, 'simple': 1, 'thing': 1, 'liked': 1, 'about': 1, 'seemed': 1, 'merge': 1, 'crystalline': 1}\n"
     ]
    }
   ],
   "source": [
    "mydict=dict(zip(l1, l2))\n",
    "print(mydict)"
   ]
  },
  {
   "cell_type": "code",
   "execution_count": 13,
   "metadata": {},
   "outputs": [
    {
     "name": "stdout",
     "output_type": "stream",
     "text": [
      "[['sophia', 9], ['found', 2], ['herself', 1], ['walking', 3], ['through', 1], ['glass', 1], ['tunnel', 1], ['bottom', 1], ['without', 1], ['difficulties', 1], ['breath', 1], ['blacktip', 1], ['shark', 1], ['school', 2], ['yellowtail', 1], ['surgeonfish', 1], ['passed', 2], ['noticing', 1], ['other', 2], ['swimming', 2], ['peacefully', 1], ['followed', 1], ['disappeared', 1], ['murky', 1], ['water', 2], ['continued', 1], ['along', 2], ['carrying', 1], ['schoolbag', 1], ['gazing', 1], ['marine', 1], ['animals', 1], ['always', 1], ['special', 1], ['fascination', 1], ['ocean', 2], ['everything', 1], ['lives', 1], ['could', 1], ['spend', 1], ['whole', 2], ['afternoons', 1], ['watching', 1], ['clown', 1], ['sharks', 1], ['sting', 1], ['turtles', 1], ['corals', 1], ['being', 1], ['surrounded', 1], ['transported', 1], ['another', 1], ['world', 3], ['closer', 1], ['outside', 1], ['first', 1], ['where', 2], ['interest', 1], ['discovered', 1], ['these', 1], ['feelings', 1], ['reminiscences', 1], ['childhood', 2], ['father', 5], ['watermelon', 1], ['kenting', 1], ['countryside', 1], ['enough', 1], ['would', 1], ['beach', 1], ['every', 1], ['weekend', 1], ['spent', 1], ['there', 1], ['searching', 1], ['crabs', 1], ['under', 1], ['rocks', 1], ['fishing', 1], ['friends', 1], ['enjoying', 1], ['things', 1], ['pacific', 1], ['provides', 1], ['ended', 1], ['reached', 2], ['family', 2], ['financial', 1], ['situation', 1], ['declined', 1], ['considerably', 1], ['years', 1], ['decided', 1], ['continue', 1], ['paying', 1], ['month', 1], ['later', 1], ['moved', 1], ['tainan', 1], ['company', 1], ['exported', 1], ['agricultural', 1], ['products', 1], ['china', 1], ['begun', 1], ['winding', 1], ['staircase', 2], ['stared', 1], ['moment', 1], ['began', 1], ['ascend', 1], ['surrounding', 1], ['cylindrical', 1], ['steps', 1], ['realized', 1], ['contained', 1], ['thousands', 1], ['jellyfishes', 1], ['light', 1], ['changed', 1], ['making', 1], ['jellyfish', 1], ['change', 1], ['their', 2], ['colors', 1], ['looked', 2], ['fluorescent', 1], ['mushrooms', 1], ['dancing', 1], ['canvas', 1], ['loved', 1], ['watch', 1], ['movements', 1], ['beautiful', 1], ['simple', 1], ['thing', 1], ['liked', 1], ['about', 1], ['seemed', 1], ['merge', 1], ['crystalline', 1]]\n"
     ]
    }
   ],
   "source": [
    "array_from_lists = []\n",
    "for i in range(len(l1)):\n",
    "    array_from_lists.append([l1[i], l2[i]])\n",
    "print(array_from_lists)"
   ]
  },
  {
   "cell_type": "code",
   "execution_count": 14,
   "metadata": {},
   "outputs": [
    {
     "name": "stdout",
     "output_type": "stream",
     "text": [
      "[['sophia', 9], ['father', 5], ['walking', 3], ['world', 3], ['found', 2], ['school', 2], ['passed', 2], ['other', 2], ['swimming', 2], ['water', 2], ['along', 2], ['ocean', 2], ['whole', 2], ['where', 2], ['childhood', 2], ['reached', 2], ['family', 2], ['staircase', 2], ['their', 2], ['looked', 2], ['herself', 1], ['through', 1], ['glass', 1], ['tunnel', 1], ['bottom', 1], ['without', 1], ['difficulties', 1], ['breath', 1], ['blacktip', 1], ['shark', 1], ['yellowtail', 1], ['surgeonfish', 1], ['noticing', 1], ['peacefully', 1], ['followed', 1], ['disappeared', 1], ['murky', 1], ['continued', 1], ['carrying', 1], ['schoolbag', 1], ['gazing', 1], ['marine', 1], ['animals', 1], ['always', 1], ['special', 1], ['fascination', 1], ['everything', 1], ['lives', 1], ['could', 1], ['spend', 1], ['afternoons', 1], ['watching', 1], ['clown', 1], ['sharks', 1], ['sting', 1], ['turtles', 1], ['corals', 1], ['being', 1], ['surrounded', 1], ['transported', 1], ['another', 1], ['closer', 1], ['outside', 1], ['first', 1], ['interest', 1], ['discovered', 1], ['these', 1], ['feelings', 1], ['reminiscences', 1], ['watermelon', 1], ['kenting', 1], ['countryside', 1], ['enough', 1], ['would', 1], ['beach', 1], ['every', 1], ['weekend', 1], ['spent', 1], ['there', 1], ['searching', 1], ['crabs', 1], ['under', 1], ['rocks', 1], ['fishing', 1], ['friends', 1], ['enjoying', 1], ['things', 1], ['pacific', 1], ['provides', 1], ['ended', 1], ['financial', 1], ['situation', 1], ['declined', 1], ['considerably', 1], ['years', 1], ['decided', 1], ['continue', 1], ['paying', 1], ['month', 1], ['later', 1], ['moved', 1], ['tainan', 1], ['company', 1], ['exported', 1], ['agricultural', 1], ['products', 1], ['china', 1], ['begun', 1], ['winding', 1], ['stared', 1], ['moment', 1], ['began', 1], ['ascend', 1], ['surrounding', 1], ['cylindrical', 1], ['steps', 1], ['realized', 1], ['contained', 1], ['thousands', 1], ['jellyfishes', 1], ['light', 1], ['changed', 1], ['making', 1], ['jellyfish', 1], ['change', 1], ['colors', 1], ['fluorescent', 1], ['mushrooms', 1], ['dancing', 1], ['canvas', 1], ['loved', 1], ['watch', 1], ['movements', 1], ['beautiful', 1], ['simple', 1], ['thing', 1], ['liked', 1], ['about', 1], ['seemed', 1], ['merge', 1], ['crystalline', 1]]\n"
     ]
    }
   ],
   "source": [
    "sorted_list = sorted(array_from_lists, key=lambda x: -x[1])\n",
    "print(sorted_list)"
   ]
  },
  {
   "cell_type": "code",
   "execution_count": 15,
   "metadata": {},
   "outputs": [
    {
     "name": "stdout",
     "output_type": "stream",
     "text": [
      "<class 'list'>\n"
     ]
    }
   ],
   "source": [
    "print(type(sorted_list))"
   ]
  },
  {
   "cell_type": "code",
   "execution_count": 16,
   "metadata": {},
   "outputs": [
    {
     "name": "stdout",
     "output_type": "stream",
     "text": [
      "[['sophia' '9']\n",
      " ['father' '5']\n",
      " ['walking' '3']\n",
      " ['world' '3']\n",
      " ['found' '2']\n",
      " ['school' '2']\n",
      " ['passed' '2']\n",
      " ['other' '2']\n",
      " ['swimming' '2']\n",
      " ['water' '2']\n",
      " ['along' '2']\n",
      " ['ocean' '2']\n",
      " ['whole' '2']\n",
      " ['where' '2']\n",
      " ['childhood' '2']\n",
      " ['reached' '2']\n",
      " ['family' '2']\n",
      " ['staircase' '2']\n",
      " ['their' '2']\n",
      " ['looked' '2']\n",
      " ['herself' '1']\n",
      " ['through' '1']\n",
      " ['glass' '1']\n",
      " ['tunnel' '1']\n",
      " ['bottom' '1']\n",
      " ['without' '1']\n",
      " ['difficulties' '1']\n",
      " ['breath' '1']\n",
      " ['blacktip' '1']\n",
      " ['shark' '1']\n",
      " ['yellowtail' '1']\n",
      " ['surgeonfish' '1']\n",
      " ['noticing' '1']\n",
      " ['peacefully' '1']\n",
      " ['followed' '1']\n",
      " ['disappeared' '1']\n",
      " ['murky' '1']\n",
      " ['continued' '1']\n",
      " ['carrying' '1']\n",
      " ['schoolbag' '1']\n",
      " ['gazing' '1']\n",
      " ['marine' '1']\n",
      " ['animals' '1']\n",
      " ['always' '1']\n",
      " ['special' '1']\n",
      " ['fascination' '1']\n",
      " ['everything' '1']\n",
      " ['lives' '1']\n",
      " ['could' '1']\n",
      " ['spend' '1']\n",
      " ['afternoons' '1']\n",
      " ['watching' '1']\n",
      " ['clown' '1']\n",
      " ['sharks' '1']\n",
      " ['sting' '1']\n",
      " ['turtles' '1']\n",
      " ['corals' '1']\n",
      " ['being' '1']\n",
      " ['surrounded' '1']\n",
      " ['transported' '1']\n",
      " ['another' '1']\n",
      " ['closer' '1']\n",
      " ['outside' '1']\n",
      " ['first' '1']\n",
      " ['interest' '1']\n",
      " ['discovered' '1']\n",
      " ['these' '1']\n",
      " ['feelings' '1']\n",
      " ['reminiscences' '1']\n",
      " ['watermelon' '1']\n",
      " ['kenting' '1']\n",
      " ['countryside' '1']\n",
      " ['enough' '1']\n",
      " ['would' '1']\n",
      " ['beach' '1']\n",
      " ['every' '1']\n",
      " ['weekend' '1']\n",
      " ['spent' '1']\n",
      " ['there' '1']\n",
      " ['searching' '1']\n",
      " ['crabs' '1']\n",
      " ['under' '1']\n",
      " ['rocks' '1']\n",
      " ['fishing' '1']\n",
      " ['friends' '1']\n",
      " ['enjoying' '1']\n",
      " ['things' '1']\n",
      " ['pacific' '1']\n",
      " ['provides' '1']\n",
      " ['ended' '1']\n",
      " ['financial' '1']\n",
      " ['situation' '1']\n",
      " ['declined' '1']\n",
      " ['considerably' '1']\n",
      " ['years' '1']\n",
      " ['decided' '1']\n",
      " ['continue' '1']\n",
      " ['paying' '1']\n",
      " ['month' '1']\n",
      " ['later' '1']\n",
      " ['moved' '1']\n",
      " ['tainan' '1']\n",
      " ['company' '1']\n",
      " ['exported' '1']\n",
      " ['agricultural' '1']\n",
      " ['products' '1']\n",
      " ['china' '1']\n",
      " ['begun' '1']\n",
      " ['winding' '1']\n",
      " ['stared' '1']\n",
      " ['moment' '1']\n",
      " ['began' '1']\n",
      " ['ascend' '1']\n",
      " ['surrounding' '1']\n",
      " ['cylindrical' '1']\n",
      " ['steps' '1']\n",
      " ['realized' '1']\n",
      " ['contained' '1']\n",
      " ['thousands' '1']\n",
      " ['jellyfishes' '1']\n",
      " ['light' '1']\n",
      " ['changed' '1']\n",
      " ['making' '1']\n",
      " ['jellyfish' '1']\n",
      " ['change' '1']\n",
      " ['colors' '1']\n",
      " ['fluorescent' '1']\n",
      " ['mushrooms' '1']\n",
      " ['dancing' '1']\n",
      " ['canvas' '1']\n",
      " ['loved' '1']\n",
      " ['watch' '1']\n",
      " ['movements' '1']\n",
      " ['beautiful' '1']\n",
      " ['simple' '1']\n",
      " ['thing' '1']\n",
      " ['liked' '1']\n",
      " ['about' '1']\n",
      " ['seemed' '1']\n",
      " ['merge' '1']\n",
      " ['crystalline' '1']]\n",
      "<class 'numpy.ndarray'>\n"
     ]
    }
   ],
   "source": [
    "sorted_array=np.array(sorted_list)\n",
    "print(sorted_array)\n",
    "print(type(sorted_array))"
   ]
  },
  {
   "cell_type": "code",
   "execution_count": 17,
   "metadata": {},
   "outputs": [
    {
     "name": "stdout",
     "output_type": "stream",
     "text": [
      "[['sophia' '9']\n",
      " ['father' '5']\n",
      " ['walking' '3']\n",
      " ['world' '3']\n",
      " ['found' '2']\n",
      " ['school' '2']\n",
      " ['passed' '2']\n",
      " ['other' '2']\n",
      " ['swimming' '2']\n",
      " ['water' '2']\n",
      " ['along' '2']\n",
      " ['ocean' '2']\n",
      " ['whole' '2']\n",
      " ['where' '2']\n",
      " ['childhood' '2']\n",
      " ['reached' '2']\n",
      " ['family' '2']\n",
      " ['staircase' '2']\n",
      " ['their' '2']\n",
      " ['looked' '2']\n",
      " ['herself' '1']\n",
      " ['through' '1']\n",
      " ['glass' '1']\n",
      " ['tunnel' '1']\n",
      " ['bottom' '1']\n",
      " ['without' '1']\n",
      " ['difficulties' '1']\n",
      " ['breath' '1']\n",
      " ['blacktip' '1']]\n"
     ]
    }
   ],
   "source": [
    "sliced_array=sorted_array[0:29,:]\n",
    "print(sliced_array)"
   ]
  },
  {
   "cell_type": "code",
   "execution_count": 18,
   "metadata": {},
   "outputs": [
    {
     "name": "stdout",
     "output_type": "stream",
     "text": [
      "[['sophia']\n",
      " ['father']\n",
      " ['walking']\n",
      " ['world']\n",
      " ['found']\n",
      " ['school']\n",
      " ['passed']\n",
      " ['other']\n",
      " ['swimming']\n",
      " ['water']\n",
      " ['along']\n",
      " ['ocean']\n",
      " ['whole']\n",
      " ['where']\n",
      " ['childhood']\n",
      " ['reached']\n",
      " ['family']\n",
      " ['staircase']\n",
      " ['their']\n",
      " ['looked']\n",
      " ['herself']\n",
      " ['through']\n",
      " ['glass']\n",
      " ['tunnel']\n",
      " ['bottom']\n",
      " ['without']\n",
      " ['difficulties']\n",
      " ['breath']\n",
      " ['blacktip']]\n"
     ]
    }
   ],
   "source": [
    "new_sliced_array=np.delete(sliced_array, 1, 1)\n",
    "print(new_sliced_array)"
   ]
  },
  {
   "cell_type": "code",
   "execution_count": 19,
   "metadata": {},
   "outputs": [
    {
     "name": "stdout",
     "output_type": "stream",
     "text": [
      "['sophia' 'father' 'walking' 'world' 'found' 'school' 'passed' 'other'\n",
      " 'swimming' 'water' 'along' 'ocean' 'whole' 'where' 'childhood' 'reached'\n",
      " 'family' 'staircase' 'their' 'looked' 'herself' 'through' 'glass'\n",
      " 'tunnel' 'bottom' 'without' 'difficulties' 'breath' 'blacktip']\n"
     ]
    }
   ],
   "source": [
    "flat_array=new_sliced_array.flatten()\n",
    "print(flat_array)"
   ]
  },
  {
   "cell_type": "code",
   "execution_count": 20,
   "metadata": {},
   "outputs": [
    {
     "name": "stdout",
     "output_type": "stream",
     "text": [
      "['sophia', 'father', 'walking', 'world', 'found', 'school', 'passed', 'other', 'swimming', 'water', 'along', 'ocean', 'whole', 'where', 'childhood', 'reached', 'family', 'staircase', 'their', 'looked', 'herself', 'through', 'glass', 'tunnel', 'bottom', 'without', 'difficulties', 'breath', 'blacktip']\n"
     ]
    }
   ],
   "source": [
    "l3=flat_array.tolist()\n",
    "print(l3)"
   ]
  },
  {
   "cell_type": "code",
   "execution_count": 21,
   "metadata": {},
   "outputs": [
    {
     "name": "stdout",
     "output_type": "stream",
     "text": [
      "sophia father walking world found school passed other swimming water along ocean whole where childhood reached family staircase their looked herself through glass tunnel bottom without difficulties breath blacktip\n"
     ]
    }
   ],
   "source": [
    "stringinput = ' '.join(str(e) for e in l3)\n",
    "print(stringinput)"
   ]
  },
  {
   "cell_type": "code",
   "execution_count": 22,
   "metadata": {},
   "outputs": [],
   "source": [
    "from wordcloud import WordCloud, STOPWORDS\n",
    "from PIL import Image\n",
    "import urllib\n",
    "import requests\n",
    "import matplotlib.pyplot as plt"
   ]
  },
  {
   "cell_type": "code",
   "execution_count": 23,
   "metadata": {},
   "outputs": [],
   "source": [
    "mask = np.array(Image.open(requests.get('http://www.clker.com/cliparts/F/O/T/S/2/x/twitter-logo-blue-hi.png',stream=True).raw))"
   ]
  },
  {
   "cell_type": "code",
   "execution_count": 24,
   "metadata": {},
   "outputs": [],
   "source": [
    "# This function takes in your text and your mask and generates a wordcloud. \n",
    "def generate_wordcloud(data, mask):\n",
    "    word_cloud = WordCloud(width = 640, height = 640, background_color='white', stopwords=STOPWORDS,mask=mask,contour_width=10,contour_color='blue',scale=2,max_words=30).generate(stringinput)\n",
    "    plt.figure(figsize=(10,8),facecolor = 'white', edgecolor='blue')\n",
    "    plt.imshow(word_cloud)\n",
    "    plt.axis('off')\n",
    "    plt.tight_layout(pad=0)\n",
    "    plt.show() "
   ]
  },
  {
   "cell_type": "code",
   "execution_count": 25,
   "metadata": {},
   "outputs": [
    {
     "data": {
      "image/png": "[encoded data removed]",
      "text/plain": [
       "<Figure size 720x576 with 1 Axes>"
      ]
     },
     "metadata": {},
     "output_type": "display_data"
    }
   ],
   "source": [
    "#Run the following to generate your wordcloud\n",
    "generate_wordcloud(stringinput, mask)"
   ]
  },
  {
   "cell_type": "code",
   "execution_count": null,
   "metadata": {},
   "outputs": [],
   "source": []
  }
 ],
 "metadata": {
  "kernelspec": {
   "display_name": "Python 3",
   "language": "python",
   "name": "python3"
  },
  "language_info": {
   "codemirror_mode": {
    "name": "ipython",
    "version": 3
   },
   "file_extension": ".py",
   "mimetype": "text/x-python",
   "name": "python",
   "nbconvert_exporter": "python",
   "pygments_lexer": "ipython3",
   "version": "3.7.3"
  }
 },
 "nbformat": 4,
 "nbformat_minor": 2
}
